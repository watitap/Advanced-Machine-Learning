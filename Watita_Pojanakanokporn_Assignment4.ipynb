{
 "cells": [
  {
   "cell_type": "markdown",
   "id": "f563ead6-d4f5-488b-8bc3-4519d950bd1b",
   "metadata": {},
   "source": [
    "## Natural Language Processing with RNNs "
   ]
  },
  {
   "cell_type": "markdown",
   "id": "ac661be0-df14-44fd-b6d4-544c462e2251",
   "metadata": {},
   "source": [
    "### Project and Dataset information\n"
   ]
  },
  {
   "cell_type": "markdown",
   "id": "d135a096-451a-432c-ae7c-0d068e8b919d",
   "metadata": {},
   "source": [
    "This dataset contains the a csv file transcript of the Apple event live stream held in September 2023. It includes three fields: \"Text,\" representing the verbatim transcript; \"Start Time,\" indicating when each segment of text begins; and \"Duration,\" specifying the duration of each spoken segment.\r\n",
    "There are 1349 rows and 3 columns with no null value. Only text column is used for this script character RNN project to predict the next token.\r\n",
    "\n",
    "\n",
    "Reference: https://www.kaggle.com/datasets/nuhmanpk/apple-event-september-2023-transcript"
   ]
  },
  {
   "cell_type": "markdown",
   "id": "ede9d4d9-d889-4332-8c5c-d0ca453740b8",
   "metadata": {},
   "source": [
    "### Import functions"
   ]
  },
  {
   "cell_type": "code",
   "execution_count": 21,
   "id": "22e0c47c-cc90-4582-a139-2d50bed22c73",
   "metadata": {},
   "outputs": [
    {
     "name": "stdout",
     "output_type": "stream",
     "text": [
      "No GPU was detected. LSTMs and CNNs can be very slow without a GPU.\n"
     ]
    }
   ],
   "source": [
    "# Collapse-show\n",
    "# Python ≥3.5 is required\n",
    "import sys\n",
    "assert sys.version_info >= (3, 5)\n",
    "\n",
    "# Scikit-Learn ≥0.20 is required\n",
    "import sklearn\n",
    "assert sklearn.__version__ >= \"0.20\"\n",
    "\n",
    "try:\n",
    "    # %tensorflow_version only exists in Colab.\n",
    "    %tensorflow_version 2.x\n",
    "    IS_COLAB = True\n",
    "except Exception:\n",
    "    IS_COLAB = False\n",
    "\n",
    "# TensorFlow ≥2.0 is required\n",
    "import tensorflow as tf\n",
    "from tensorflow import keras\n",
    "from tensorflow.keras.callbacks import EarlyStopping\n",
    "assert tf.__version__ >= \"2.0\"\n",
    "\n",
    "if not tf.test.is_gpu_available():\n",
    "    print(\"No GPU was detected. LSTMs and CNNs can be very slow without a GPU.\")\n",
    "    if IS_COLAB:\n",
    "        print(\"Go to Runtime > Change runtime and select a GPU hardware accelerator.\")\n",
    "\n",
    "# Common imports\n",
    "import numpy as np\n",
    "import pandas as pd\n",
    "import os\n",
    "\n",
    "# to make this notebook's output stable across runs\n",
    "np.random.seed(42)\n",
    "tf.random.set_seed(42)\n",
    "\n",
    "# To plot pretty figures\n",
    "%matplotlib inline\n",
    "import matplotlib as mpl\n",
    "import matplotlib.pyplot as plt\n",
    "mpl.rc('axes', labelsize=14)\n",
    "mpl.rc('xtick', labelsize=12)\n",
    "mpl.rc('ytick', labelsize=12)\n",
    "\n",
    "# Where to save the figures\n",
    "PROJECT_ROOT_DIR = \".\"\n",
    "CHAPTER_ID = \"rnn\"\n",
    "IMAGES_PATH = os.path.join(PROJECT_ROOT_DIR, \"images\", CHAPTER_ID)\n",
    "os.makedirs(IMAGES_PATH, exist_ok=True)\n",
    "\n",
    "def save_fig(fig_id, tight_layout=True, fig_extension=\"png\", resolution=300):\n",
    "    path = os.path.join(IMAGES_PATH, fig_id + \".\" + fig_extension)\n",
    "    print(\"Saving figure\", fig_id)\n",
    "    if tight_layout:\n",
    "        plt.tight_layout()\n",
    "    plt.savefig(path, format=fig_extension, dpi=resolution)\n",
    "\n",
    "# Ignore useless warnings (see SciPy issue #5998)\n",
    "import warnings\n",
    "warnings.filterwarnings('ignore')"
   ]
  },
  {
   "cell_type": "markdown",
   "id": "d8561f15-c65c-4b4d-a8fc-90c965679f00",
   "metadata": {},
   "source": [
    "## Load and Explore Data"
   ]
  },
  {
   "cell_type": "code",
   "execution_count": 22,
   "id": "52ca253d-ebd6-43ce-8a42-425417053bb9",
   "metadata": {},
   "outputs": [
    {
     "data": {
      "text/html": [
       "<div>\n",
       "<style scoped>\n",
       "    .dataframe tbody tr th:only-of-type {\n",
       "        vertical-align: middle;\n",
       "    }\n",
       "\n",
       "    .dataframe tbody tr th {\n",
       "        vertical-align: top;\n",
       "    }\n",
       "\n",
       "    .dataframe thead th {\n",
       "        text-align: right;\n",
       "    }\n",
       "</style>\n",
       "<table border=\"1\" class=\"dataframe\">\n",
       "  <thead>\n",
       "    <tr style=\"text-align: right;\">\n",
       "      <th></th>\n",
       "      <th>text</th>\n",
       "      <th>start</th>\n",
       "      <th>duration</th>\n",
       "    </tr>\n",
       "  </thead>\n",
       "  <tbody>\n",
       "    <tr>\n",
       "      <th>1339</th>\n",
       "      <td>and best-in-class experiences</td>\n",
       "      <td>5054.466</td>\n",
       "      <td>1.934</td>\n",
       "    </tr>\n",
       "    <tr>\n",
       "      <th>1340</th>\n",
       "      <td>that help us do the things\\nthat matter most i...</td>\n",
       "      <td>5059.533</td>\n",
       "      <td>0.800</td>\n",
       "    </tr>\n",
       "    <tr>\n",
       "      <th>1341</th>\n",
       "      <td>Apple Watch and iPhone are\\nessential.</td>\n",
       "      <td>5062.666</td>\n",
       "      <td>1.334</td>\n",
       "    </tr>\n",
       "    <tr>\n",
       "      <th>1342</th>\n",
       "      <td>They're with us all the time\\nand we use them ...</td>\n",
       "      <td>5066.900</td>\n",
       "      <td>1.633</td>\n",
       "    </tr>\n",
       "    <tr>\n",
       "      <th>1343</th>\n",
       "      <td>which is why we're so excited\\nfor you to begi...</td>\n",
       "      <td>5073.300</td>\n",
       "      <td>0.566</td>\n",
       "    </tr>\n",
       "    <tr>\n",
       "      <th>1344</th>\n",
       "      <td>Thank you for joining us!</td>\n",
       "      <td>5075.466</td>\n",
       "      <td>0.434</td>\n",
       "    </tr>\n",
       "    <tr>\n",
       "      <th>1345</th>\n",
       "      <td>Have a great day!</td>\n",
       "      <td>5078.033</td>\n",
       "      <td>0.233</td>\n",
       "    </tr>\n",
       "    <tr>\n",
       "      <th>1346</th>\n",
       "      <td>♪ ♪</td>\n",
       "      <td>5086.233</td>\n",
       "      <td>1.633</td>\n",
       "    </tr>\n",
       "    <tr>\n",
       "      <th>1347</th>\n",
       "      <td>.</td>\n",
       "      <td>5104.266</td>\n",
       "      <td>6.900</td>\n",
       "    </tr>\n",
       "    <tr>\n",
       "      <th>1348</th>\n",
       "      <td>.</td>\n",
       "      <td>5121.266</td>\n",
       "      <td>0.567</td>\n",
       "    </tr>\n",
       "  </tbody>\n",
       "</table>\n",
       "</div>"
      ],
      "text/plain": [
       "                                                   text     start  duration\n",
       "1339                      and best-in-class experiences  5054.466     1.934\n",
       "1340  that help us do the things\\nthat matter most i...  5059.533     0.800\n",
       "1341             Apple Watch and iPhone are\\nessential.  5062.666     1.334\n",
       "1342  They're with us all the time\\nand we use them ...  5066.900     1.633\n",
       "1343  which is why we're so excited\\nfor you to begi...  5073.300     0.566\n",
       "1344                          Thank you for joining us!  5075.466     0.434\n",
       "1345                                  Have a great day!  5078.033     0.233\n",
       "1346                                                ♪ ♪  5086.233     1.633\n",
       "1347                                                  .  5104.266     6.900\n",
       "1348                                                  .  5121.266     0.567"
      ]
     },
     "execution_count": 22,
     "metadata": {},
     "output_type": "execute_result"
    }
   ],
   "source": [
    "data = pd.read_csv('transcript.csv') # load csv dataset\n",
    "data.tail(10) # Check data from the last 10 rows"
   ]
  },
  {
   "cell_type": "code",
   "execution_count": 23,
   "id": "c6e368d6-aa53-40b6-989e-63610abd0523",
   "metadata": {},
   "outputs": [
    {
     "data": {
      "text/plain": [
       "<bound method DataFrame.info of                            text     start  duration\n",
       "0                   Apple Event    12.000     2.766\n",
       "1                   Apple Event    20.033     2.700\n",
       "2                   Apple Event    26.766     4.034\n",
       "3                   Apple Event    36.033     2.767\n",
       "4                   Apple Event    44.066     2.734\n",
       "...                         ...       ...       ...\n",
       "1344  Thank you for joining us!  5075.466     0.434\n",
       "1345          Have a great day!  5078.033     0.233\n",
       "1346                        ♪ ♪  5086.233     1.633\n",
       "1347                          .  5104.266     6.900\n",
       "1348                          .  5121.266     0.567\n",
       "\n",
       "[1349 rows x 3 columns]>"
      ]
     },
     "execution_count": 23,
     "metadata": {},
     "output_type": "execute_result"
    }
   ],
   "source": [
    "data.info # Check summary of the dataset"
   ]
  },
  {
   "cell_type": "code",
   "execution_count": 24,
   "id": "373922a2-4c8c-43e2-89d7-9a9fe56b3ce3",
   "metadata": {},
   "outputs": [
    {
     "data": {
      "text/plain": [
       "text        0\n",
       "start       0\n",
       "duration    0\n",
       "dtype: int64"
      ]
     },
     "execution_count": 24,
     "metadata": {},
     "output_type": "execute_result"
    }
   ],
   "source": [
    "data.isnull().sum() # Check how many null value"
   ]
  },
  {
   "cell_type": "code",
   "execution_count": 25,
   "id": "aa245ab1-31bd-4d8e-939f-683aa3b5275c",
   "metadata": {
    "scrolled": true
   },
   "outputs": [
    {
     "name": "stdout",
     "output_type": "stream",
     "text": [
      "40    Omar Hashem:\\nI'm thankful for my friends and\\...\n",
      "41                                   for supporting me.\n",
      "42                      I'm super thankful for my life.\n",
      "43             Imani Miles: Everybody has\\nalways said,\n",
      "44    \"She's gonna be somebody really\\ngreat when sh...\n",
      "45                                      I believe that.\n",
      "46                                                  ♪ ♪\n",
      "47          We're so glad you're here with\\nus, Jessie.\n",
      "48                          - I know.\\n- We're so glad.\n",
      "49                                 We love you so much.\n",
      "Name: text, dtype: object\n"
     ]
    }
   ],
   "source": [
    "print(data.text[40:50]) # Print only text column from row 40 to 50"
   ]
  },
  {
   "cell_type": "markdown",
   "id": "44227125-4fb9-448b-8024-7ead5326ea98",
   "metadata": {},
   "source": [
    "## Creating the Training Dataset"
   ]
  },
  {
   "cell_type": "code",
   "execution_count": 26,
   "id": "a84b2fe7-360d-42e1-a26b-aa062a0452f0",
   "metadata": {},
   "outputs": [],
   "source": [
    "df = pd.DataFrame(data)\n",
    "df['text'] = df['text'].str.lower() # convert all text into lowercase"
   ]
  },
  {
   "cell_type": "code",
   "execution_count": 27,
   "id": "f2cee6cd-fa2b-492f-b305-78a101e01791",
   "metadata": {},
   "outputs": [
    {
     "data": {
      "text/plain": [
       "'apple event apple event apple event apple event apple event apple event apple event apple event apple event apple event apple event apple event apple event apple event apple event apple event apple event apple event [notification clicks] ♪ ♪ [phone chimes] [indistinct whispering] happy birthday. love you. [phone vibrates] ♪ ♪ [notification chimes] ♪ ♪ happy birthday! ♪ ♪ ♪ ♪ ♪ ♪ tasha prescott: oh, man. i\\'m appreciative of just life. another opportunity. my kids experiencing things\\nbecause i\\'m still here. antonio femiano:\\nit\\'s always great to get up in\\nthe morning and be here,\\nliving one more day with them. stephen watts:\\nit\\'s so exciting to live and to be here with people you\\nlove. omar hashem:\\ni\\'m thankful for my friends and\\nfamily for supporting me. i\\'m super thankful for my life. imani miles: everybody has\\nalways said, \"she\\'s gonna be somebody really\\ngreat when she grows up.\" i believe that. ♪ ♪ we\\'re so glad you\\'re here with\\nus, jessie. - i know.\\n- we\\'re so glad. we love you so much. jess kelly:\\ni\\'m here, shelby\\'s here, and i\\'m super thankful for that. okay, now can i blow out these\\ncandles? ♪ ♪ ♪ ♪ ♪ ♪ ♪ ♪ ♪ ♪ tim cook: good morning. welcome to apple park. we\\'re so excited you could join\\nus today for some big\\nannouncements about two essential products: apple watch and iphone. like we just saw, nothing\\'s more important\\nthan helping save lives, and it\\'s amazing to see all the\\nways people use apple watch and iphone every day. we\\'re going to talk more about\\nwhat\\'s coming next to these\\nproducts. but first, i\\'d like to provide a\\ncouple of updates, starting with\\nthe mac. in june our mac lineup got even\\nbetter. we introduced the two most\\npowerful macs we\\'ve ever\\nshipped, the new mac studio and mac pro. this completed the transition\\nof the mac to apple silicon. we also introduced\\nthe world\\'s best 15-inch laptop, the new 15-inch macbook air. and the reaction has been\\nfantastic. tom\\'s guide said the 15-inch\\nmacbook air is the best 15-inch\\nlaptop you can buy. and marques brownlee said\\nthe 15-inch macbook air is going to instantly rocket\\nto the top of the lineup to become the most popular\\n15-inch laptop. we love the new macbook air\\nand the entire mac lineup. it\\'s the best and most capable\\nlineup in the history of the\\npersonal computer. we also unveiled apple vision\\npro, an entirely new\\nspatial computing platform where your digital content\\nseamlessly blends with your\\nphysical space. everything looks better on\\nvision pro, including your favorite tv shows\\nand movies, like the new season of the\\nmorning show which starts this\\nweek. and the response to apple vision\\npro has been absolutely amazing. we\\'re so pleased that people are\\nas excited about apple vision\\npro as we are. apple vision pro\\nhas also captured the\\nimagination of our remarkable developer\\ncommunity. we\\'re extremely excited about\\nwhat they\\'re already showing us in our developer labs around the\\nworld. they\\'re creating truly amazing\\nexperiences that wouldn\\'t be\\npossible on any other platform. our apple team is also making\\ngreat progress with vision pro and we\\'re on track to ship\\nearly next year. we look forward to sharing\\napple vision pro and its breakthrough spatial\\nexperiences with all of you. now, let\\'s get to the big news\\nof the day about apple watch and iphone. their innovative features\\nand industry-leading\\ntechnologies help improve our lives in so\\nmany meaningful and delightful\\nways. apple watch helps us stay\\nhealthy, active, and connected, and iphone impacts\\njust about everything we do. they\\'re with us all the time. and if you left either one at\\nhome, i bet you\\'d go back and\\nget it. so we\\'re excited to talk about\\nhow we\\'re taking apple watch and iphone even further. let\\'s get started with apple\\nwatch. here\\'s jeff to tell you more. ♪ ♪ ♪ ♪ jeff williams: apple watch helps\\nmillions of people live a better\\nday. it monitors your health,\\nmotivates you to be active, connects you to the people\\nand information you care about, and can even contact help if\\nneeded. and today i\\'m excited to\\nintroduce the next generation of apple\\nwatch. ♪ ♪ ♪ ♪ jeff: apple watch is\\nthe world\\'s most popular watch. and series 9 takes it to the\\nnext level, with powerful new apple silicon, and amazing new features\\nthat you\\'ll use every single\\nday. here\\'s deidre to tell you all\\nabout it. ♪ ♪ deidre caldbeck: apple silicon\\npowers the incredible\\ncapabilities built into every apple watch. designing our own chips\\nand tightly integrating them\\nwith watchos unlocks innovative features\\nlike advanced workout metrics, sleep stages, and car crash\\ndetection. apple watch series 9 has been\\nredesigned on the inside with\\nthe all-new s9 sip, giving it a big boost\\nin performance and capabilities. it\\'s our most powerful watch\\nchip yet. the s9 cpu has 5.6 billion\\ntransistors, 60% more than series 8,\\nand its gpu is 30% faster. the new s9 chip makes the\\nanimations and effects in\\nwatchos 10 look super smooth. s9 also has a new 4-core neural\\nengine that can process machine\\nlearning tasks up to twice as\\nfast. this powerful custom silicon\\nis what allows us to maintain all-day 18-hour battery life while adding new features\\nand system-wide improvements to\\nseries 9. because it\\'s always on you, apple watch is often the easiest\\nand quickest way to use siri. to check the score,\\nclose the garage, or send a\\nmessage, just raise your wrist and ask.\\nit\\'s that simple. thanks to the powerful new\\nneural engine, siri requests are now processed\\non-device, making them faster and more\\nsecure. this means that the most common\\nrequests, like \"siri,\\nstart an outdoor walk workout,\" no longer have to go to the\\ncloud, so they can\\'t be slowed down\\nconnection.i-fi or cellula and because the neural engine\\ncan run a more advanced\\ntransformer model, dictation on series 9 is up to\\n25% more accurate than on series\\n8. secure on-device processing\\nalso enables a brand new\\nfeature: the ability to access\\nyour health data with siri. so now you can ask,\\n\"how much did i sleep last\\nnight?\", \"what\\'s my average walking heart\\nrate?\", or \"how does my move ring look\\ntoday?\" and you can log health data,\\nlike your weight or period, or that you\\'ve taken your\\nmedications, with just your\\nvoice. siri health queries will be\\navailable later this year in\\nenglish and mandarin with more languages to follow. apple watch is perfect for\\ninteracting with nearby objects\\nlike smart locks, gym equipment, or payment\\nterminals. at home or out in the world, your watch connects\\nto all kinds of devices making so many\\nof the things you do easier. and with watchos 10,\\nyou can use namedrop to instantly share\\nyour contact information with another person\\'s apple\\nwatch. this year, apple silicon\\nenhances another one of our users\\'\\nfavorite nearby or faraway\\nfeatures: the ability to ping your iphone. series 9 has a new\\nsecond-generation ultra wideband\\nchip that enables precision finding\\nfor iphones with the same chip. you\\'ll see both the distance\\nand direction to your iphone, and once you get close, haptic and audible feedback\\nguide you to its location, even if it\\'s in a different\\nroom. ultra wideband also brings new\\nintegration between apple watch\\nand homepod. when you get close to your\\nhomepod, media suggestions will\\nautomatically appear at the top\\nof the smart stack, so you can instantly fire up a\\nplaylist or podcast. or if audio is already playing, your watch will launch now\\nplaying to let you control it. series 9 features a big\\nedge-to-edge always-on retina\\ndisplay that\\'s even easier to read\\noutdoors because it now goes up to 2000\\nnits, double the brightness of\\nseries 8. the display is also better\\nin very dark situations, like a movie theater\\nor early morning wakeup, because it now goes down to just\\none nit. these features will be useful\\nevery time you put on your\\nwatch. but that\\'s not all. the powerful sip also enables\\nan incredible new capability. back to jeff to tell you about\\nit. jeff: innovations on apple watch\\nlike the digital crown and\\ntaptic engine, along with tap, swipe, and\\ndouble-click, make it simple and intuitive to\\nuse. apple watch is also controlled\\nby gestures like wrist raise, which brightens the display\\nto let you check the time, read notifications,\\nor see who\\'s calling with a\\nglance. you can even cover the display\\nto silence alerts. today, we\\'re adding something\\nreally cool. series 9 enables an incredible\\nnew gesture that uses just your watch hand. it\\'s especially convenient\\nfor those common situations, when your other hand is\\noccupied, like walking the dog\\nor holding a cup of coffee. we think you\\'ll use this all the\\ntime. introducing double tap. just tap your index finger and\\nthumb together twice. it\\'s that easy. you can use double tap to answer\\na call. let me show you. hi, deidre. deidre: hey, jeff. jeff: this same gesture also\\nworks to end the call. see you later.\\ndeidre: okay, bye. jeff: double tap controls\\nthe primary button in an app so you can use it to stop a\\ntimer, play and pause music,\\nor snooze an alarm. a double tap will also launch\\nthe smart stack from your watch\\nface. double tap again\\nto scroll through the widgets, just like turning the digital\\ncrown. this new gesture is enabled\\nby the powerful neural engine in\\nseries 9, which processes data\\nfrom the accelerometer,\\ngyroscope, and optical heart sensor\\nin a completely new way. it uses a machine learning\\nalgorithm to detect the unique\\nsignature of tiny movements\\nand changes in blood flow when your hand and fingers\\nperform a double tap, check out double tap in action. [watch chiming] ♪ ♪ [ringtone chiming] hello? ♪ ♪ hello? hello? ♪ ♪ [ringtone chiming] hey, mom. ♪ ♪ whoa. ♪ ♪ tina: i took a left at survival, but i don\\'t know what books\\nyou\\'re talking about. i don\\'t know, tina. tina: i thought i was on the\\nfirst floor.\\n- shh. tina: but i saw a sign that it\\nwas the second floor, and then i\\ntried get-- ♪ ♪ [notification chiming] jeff: double tap makes\\ninteracting with your watch\\nfaster, easier, and more convenient. it will be available next month, and we can\\'t wait\\nfor you to start using it, because once you do, it will become one of those\\nmagical experiences you rely on\\nevery day. series 9 will be available\\nin a gorgeous new pink aluminum\\ncase, plus starlight, silver,\\nmidnight, and product(red), and stainless steel cases\\nin gold, silver, and graphite. across these models we\\'ve also\\nbeen innovating in another\\nimportant direction: towards our industry-leading\\nenvironmental goals. we recently had the chance to\\nshare our progress with a\\nspecial guest. [muttering] ♪ ♪ [sighs]\\nwelcome to apple. welcome to\\napple. hi, i\\'m tim.\\n- she should be here any minute. how was the weather coming here? hi, i\\'m tim. ♪ ♪ hey, uh, i\\'m gonna do \"the\\noffice is already carbon\\nneutral,\" thing, right? #name? ♪ ♪ okay. ♪ ♪ [thunder rumbling, wind blowing] ♪ ♪ [rumbling] ♪ ♪ i hope we didn\\'t keep you\\nwaiting. mother nature. mother nature, welcome to apple. how-how was the weather getting\\nin? [thunder rumbles] the weather was however i wanted\\nit to be. let\\'s cut to the chase. in 2020, you promised to bring\\napple\\'s entire carbon footprint\\nto zero by 2030. henry david thoreau over here said we have a profound\\nopportunity to build a more\\nsustainable future for the planet we share. i think our 10:00 o\\'clock\\nsaid the same thing. they all do. all right, this is my third\\ncorporate responsibility gig\\ntoday, so who wants to disappoint me\\nfirst? well, we\\'ve got some updates\\nwe are excited to share with\\nyou-- materials? status. is there a materials person\\nhere? yes. we are in the process of\\neliminating all plastic from our\\npackaging by the end-- let me guess. 50 years from now when someone\\nelse is left holding the bag? by the end of next year,\\nactually. and we\\'re also currently using\\n100% recycled aluminum in the enclosures of all our\\nmacbooks, apple tvs, apple watch. what about ipod shuffle? the--well--\\n[indistinct muttering] mother nature: it\\'s a joke. don\\'t you people make ted lasso? that\\'s a different group. um, we\\'re also phasing out\\nleather in our iphone cases. what about brando over there? they phasing you out too? oh. what\\'s next? #name? uh, we\\'re--we\\'re operating\\non 100% clean electricity. what runs on 100% clean\\nelectricity? every apple office, store, and\\ndata center runs on clean\\nelectricity, thanks to you and your powerful\\nwind and sun. mm. and apple offices are already\\ncarbon neutral. this building is carbon neutral? well, yeah, we do it with a mix\\nof clean energy and eliminating greenhouse\\nemissions. it\\'s kind of like if you were\\nto, uh-- you\\'re seriously explaining\\ncarbon neutrality to mother\\nnature? right. no. sorry. you want to tell me\\nhow photosynthesis works too? - don\\'t.\\n- um... also, over 300 suppliers have\\ncommitted to using 100% clean\\nrenewable electricity. what\\'s next? transportation. i\\'mproud to report that we\\'re\\nshipping more products by ocean, rather than air, which reduces\\ntransportation emissions by 95%. 95%? not too bad. i\\'m also happy to report that we\\'re investing in projects\\naround the world that protect the earth\\'s soil,\\nplants, and trees. [chuckles] everyone says they\\'re planting\\ntrees. we\\'ve planted forests. oh. hello. #name? what, are you trying to save\\nthe tropical savannah? ♪ ♪ yes. and we\\'ve also restored\\nmangroves in colombia. what else? #name? our aim is to permanently remove\\ncarbon from the atmosphere. ♪ ♪ - what about your water usage?\\n- we\\'ve reduced it. - by how much?\\n- 63 billion gallons. - 63 million?\\n- billion. ♪ ♪ tim: as you can see,\\nwe\\'ve innovated and retooled almost every part of our process to reduce our impact on the\\nplanet. by 2030, all apple devices will\\nhave a net zero climate impact. all of them? all of them. they better. they will. ♪ ♪ okay. good. see you next year. don\\'t disappoint your mother! ♪ ♪ that was awesome. [excited chatter] ♪ ♪ jeff: as you can see, we\\'ve been working on some\\nreally big environmental\\ninitiatives and it\\'s making a difference. to share more, here\\'s lisa. ♪ ♪ lisa jackson: at apple, our\\nmission is to make products\\ncustomers love and protect the planet at the\\nsame time. three years ago,\\nwe made our corporate operations around the world carbon neutral. it was the first step towards our most ambitious\\nenvironmental commitment to\\ndate. apple 2030: our plan to be carbon neutral\\nacross our entire business by the year 2030. the next step is getting the\\ncarbon footprint of all of our\\nproducts down to net zero. for apple watch series 9,\\nwe challenged ourselves to significantly reduce\\ngreenhouse gas emissions from their three biggest\\nsources: materials, electricity,\\nand transportation. maximizing recycled\\nand renewable materials in our\\nproducts is key to apple 2030 because they have a lower carbon\\nimpact than virgin materials. so we use 100% recycled aluminum\\nin our watch cases, plus recycled gold, tin, copper,\\ntungsten, and more inside of\\nseries 9. and for the first time, there is\\n100% recycled cobalt in the\\nbattery. we also redesigned\\none of our most popular watch\\nbands, the sport loop,\\nto use more recycled material. it is now made with 82% recycled\\nyarn, while maintaining the softness\\nand comfort you love. electricity is the biggest\\nsource of carbon emissions. since 2015, we\\'ve been investing\\nin renewable energy like this solar installation\\nin central california while helping our suppliers do\\nthe same. and we\\'re excited to announce\\nthat starting this year, all apple watch manufacturing\\nis powered by 100% clean\\nelectricity, charging is another source of\\nemissions. while it\\'s a small amount per\\nperson, across millions of watch\\nwearers, it adds up. so we decided to do something\\nabout it. for series 9, apple will match\\n100% of your expected\\nelectricity use by investing in renewable energy\\nprojects around the world. finally, we looked at how apple\\nwatch gets from the factory to\\nyou. to cut emissions from\\ntransportation, we started by redesigning\\nseries 9 packaging to be 100%\\nfiber-based and more compact. it has a new, smaller shape that\\nlets us ship up to 25% more\\nwatches per trip. and more of those trips will be\\nmade with low-carbon shipping\\nmodes, like ocean-freight, which emits\\njust one-twentieth of shipping\\nby air. our efforts to reduce emissions\\nfrom materials, electricity, and\\ntransportation resulted in a whopping 78%\\ndecrease in the carbon\\nfootprint. the small amount of emissions\\nthat remain are offset by high-quality credits\\nfrom projects like forests and\\nwetlands that actively remove carbon\\nfrom the atmosphere. this last step brings the net\\ncarbon footprint of apple watch\\nseries 9 down to zero, making it our first-ever\\ncarbon neutral product! any combination of aluminum\\nseries 9 and new sport loop is\\ncarbon neutral and has been certified\\nby an independent third party. to help you recognize it,\\nyou\\'ll see this new logo on the\\nbox. we are so excited about this\\nachievement, and it\\'s how we plan to get all\\napple products to carbon\\nneutral, by innovating across design,\\nengineering, and operations to steeply reduce emissions before applying\\nhigh-quality carbon credits. while apple 2030 is the\\ndestination, the journey is\\nimportant, too. so we looked for additional\\nopportunities to make change. leather is a popular material\\nfor accessories, but it has a significant carbon\\nfootprint, especially at apple\\'s\\nscale. to reduce our impact, we will no\\nlonger use leather in any new\\napple products, including watch bands,\\nand that starts today. now, back to jeff to tell you\\nmore. jeff: we\\'ve developed a\\nbeautiful, luxurious, and\\ndurable new textile that we\\'re calling finewoven. it\\'s made of 68%\\npost-consumer recycled content, which has a significantly lower\\ncarbon footprint than leather. finewoven gives the new magnetic\\nlink a subtle luster and\\nsuede-like feel and it looks great\\non the modern buckle, too. both bands will be available in\\nnew colors and offer a sophisticated look\\nfor any special occasion. we also explored more\\nenvironmentally friendly\\nmaterials with our partners. this year, we collaborated with\\nhermès on four new styles that draw on\\ntheir long history in textiles. there are two elegant woven\\nbands, our first-ever knitted band,\\nand another in sporty molded\\nrubber. and all come in a range of rich\\ncolors. hermès radial, a modern take\\non their classic watch face, complements these innovative new\\nstyles. we also worked with nike\\nto design new bands that repurpose excess materials\\nand waste, reducing the use of virgin\\nmaterial. the new nike sport band includes\\ncolorful flakes of recycled\\nmaterial. they create a randomized pattern\\nthat makes each band unique. for the nike sport loop, we repurposed yarn from previous\\nseasons to make the same soft material\\nwith a fun, new space dye look. both bands come\\nin a range of dynamic colors. and there\\'s a new nike watch\\nface that shows each passing second\\non the lines of the globe. and that\\'s the new apple watch\\nseries 9. it features a magical new way\\nto control your watch with\\ndouble tap, faster on-device siri\\nthat lets you securely access\\nhealth data, precision finding for iphone, and a brighter display all enabled by the s9 sip, our most powerful chip ever\\nin an apple watch. and it\\'s apple\\'s first-ever\\ncarbon neutral product. now, let\\'s talk about apple\\nwatch ultra. ♪ ♪ ultra is the most advanced apple\\nwatch, and it\\'s perfect for anyone\\nwho wants the biggest display and longest battery life\\nwith a stunning design. over the last year, ultra has\\nhelped people accomplish\\nextraordinary feats, like summiting the tallest\\nmountains, completing demanding endurance\\nraces, and diving the world\\'s oceans. ultra is a precision tool\\ndesigned to go farther, higher, and deeper\\nthan any apple watch has before. and we\\'ve made our most rugged\\nand capable apple watch even\\nbetter. today we\\'re introducing\\napple watch ultra 2 with incredible new features\\nthat elevate any adventure. and here\\'s daniela\\nto tell you all about it. daniela deschamps:\\nultra 2 gets the powerful new s9\\nsip. that means you can use the new\\ndouble tap gesture anytime your\\nhands are full. set a waypoint using just your\\nvoice with the new on-device\\nsiri, even when you have no\\nconnectivity. and precision finding with\\nthe second generation ultra\\nwideband chip helps you easily find your\\niphone when you can\\'t remember\\nwhere it\\'s stowed. ultra 2 also has\\na new advanced display\\narchitecture that pushes the brightness\\nto a massive 3000 nits. it\\'s the brightest display\\napple has ever created, and makes ultra 2 more readable\\nin the harshest sunlight. to take advantage\\nof this incredible display, we created an exclusive new\\nwatch face called modular ultra. it\\'s the first to use the\\noutermost edge of the display to show real-time data like\\naltitude, depth, or the passing\\nseconds. modular ultra can be customized\\nto provide the most information\\nat a glance of any digital watch face\\nwe have ever made. and now night mode\\nuses the ambient light sensor to activate automatically in the\\ndark. day or night, ultra has so much\\nto offer. and for runners, it\\'s the\\nperfect choice with advanced metrics,\\na big, brighter display, a customizable action button, and precision dual-frequency\\ngps. and this year, watchos 10\\ntakes cycling to the next level, allowing you to connect\\nbluetooth accessories to measure\\ncadence, speed, and power. apple watch also helps you get\\nthe most out of your training\\nwith power zones. and if you start\\na cycling workout on your watch, it automatically shows up\\nas a live activity on your\\niphone. ultra 2 is designed for extremes and has been tested across the\\nlargest range of altitudes for\\nany apple product, from the lowest valleys\\nto the highest peaks. ultra is also great\\nfor your underwater adventures. the depth app now saves\\na log of each session, so you can review your dives\\nright on ultra and in the\\nfitness app on iphone. from alpine peaks,\\nto deep water, to the open road, we can\\'t wait to see\\nwhere you take ultra 2. now, back to jeff. ♪ ♪ jeff:\\neven with all these new\\ncapabilities, ultra 2 still gets\\nthe same great battery life. up to 36 hours of typical use\\non a single charge, and up to 72 hours in low power\\nmode. with ultra 2, we are also\\ncontinuing our commitment to the\\nenvironment. in just one year,\\nwe significantly increased the amount of recycled content\\nin the case, going from all virgin titanium\\nto 95% recycled. this dramatic improvement in\\nmaterial, along with our work in clean\\nelectricity and transportation, allowed us to meet our ambitious\\ncarbon reduction targets making any ultra 2 paired\\nwith an alpine loop or trail\\nloop carbon neutral. and this year,\\nthe trail loop and alpine loop, and the ocean band come\\nin a range of beautiful new\\ncolors. and that\\'s the new apple watch\\nultra 2. it comes with all of the\\nfeatures users love about ultra, plus the powerful s9 sip,\\napple\\'s brightest display ever, an expanded altitude range,\\non-device siri, and a brand new gesture\\nfor easy control of your watch. these innovations\\nand the advancements in watchos\\n10, make our most rugged\\nand capable watch even better. ultra 2 joins series 9 in the\\nlineup along with the popular\\nsecond generation apple watch\\nse. and we\\'re excited to announce\\nthat se is also carbon neutral when paired with a sport loop. which means this fall, customers can buy a carbon\\nneutral model of any new apple\\nwatch. the apple watch se starts at\\njust $249. the new series 9 starts at $399. and apple watch ultra 2 is $799. you can order the new\\napple watch models starting\\ntoday, and they will be available\\non september 22nd. now, back to tim. ♪ ♪ tim: i love the new apple watch\\nseries 9 and apple watch ultra\\n2. with incredible new\\ncapabilities, they\\'re the most technically\\nadvanced watches we\\'ve ever\\ncreated. and i\\'m really proud\\nof the apple watch team for delivering\\nour first carbon neutral product seven years ahead\\nof our companywide 2030 goal. now, let\\'s talk about iphone. since the very first iphone, we\\'ve focused on giving our\\nusers a device that\\'s incredibly\\npowerful, remarkably easy to use,\\nand beautifully designed. every year, we\\'ve built on this\\nfoundation to create experiences that make a real difference\\nin our users\\' daily lives. today, we\\'re pushing what users\\nlove about iphone even further. and i\\'d like to show it to you\\nnow. ♪ ♪ ♪ ♪ ♪ ♪ tim: iphone 15 is absolutely\\nincredible! to tell you all about it, here\\'s\\nkaiann. ♪ ♪ ♪ ♪ kaiann drance: iphone 15 has\\nan all-new design that\\'s simply\\ngorgeous. starting from the front,\\nit has the dynamic island, which has been a hit with our\\npro users. the dynamic island fluidly\\nexpands and adapts to your\\nalerts and live activities, creating an experience\\nthat\\'s so intuitive, it feels\\nmagical. now even more users\\ncan easily control their music or see the next direction in\\nmaps. our amazing community of\\ndevelopers have made the dynamic\\nisland even more useful\\nby expanding what it can do. now, you can track a pizza\\ndelivery and follow the big game at the\\nsame time. when you\\'re catching a flight,\\nyou can see which gate you\\'re\\nleaving from, and how long until boarding\\ntime. it\\'s more helpful than ever. and the dynamic island looks\\nfantastic on the super retina xdr display,\\nwhich uses oled technology. it provides\\nan exceptional viewing\\nexperience, with thinner borders, rich\\ncolor, and support for dolby vision. and now, it\\'s even brighter. peak hdr brightness reaches 1600\\nnits, so hdr photos and videos\\nwill look better than ever. when it\\'s sunny, peak brightness\\ncan now go up to 2000 nits, twice as bright as iphone 14. it comes in two sizes:\\n6.1 inches for iphone 15 and 6.7 inches for iphone 15\\nplus. the larger display of iphone 15\\nplus gives you more space for\\ntext when you\\'re reading the latest\\narticle, post, or message, and the bigger display is\\nperfect when you choose larger\\ntext. both sizes feel even nicer in\\nyour hand due to a new contoured\\nedge on the aerospace-grade aluminum\\nenclosure. for the first time ever in a\\nsmartphone, iphone 15 has color embedded\\nthroughout a single piece of durable color-infused glass. we use metallic ions to build\\ncolor into the foundation of the\\nmaterial itself, precisely controlling the\\nsaturation to create five\\nstunning colors: pink, yellow, green, blue, and\\nblack. to provide the durability\\nour users depend on, we optimized our custom\\ndual ion-exchange process for this new material and\\npolished it with\\nnano-crystalline particles. then, it\\'s etched to create a\\ntextured matte finish that feels\\nincredible. iphone 15 has ceramic shield, tougher than any smartphone\\nglass, and water and dust resistance,\\nso it\\'s built to last. and iphone holds its value\\nlonger than any other\\nsmartphone. this is good for our users,\\nand good for the environment, since it helps conserve\\nfinite natural resources. another key part of reaching our\\ngoal of carbon neutral products\\nby 2030 is maximizing our use of\\nrecycled content, as you heard from lisa earlier. the enclosure uses 75% recycled\\naluminum. for the first time, we\\'re using\\n100% recycled cobalt in the\\nbattery and 100% recycled copper foil\\nin the main logic board and magsafe charger. iphone 15 has an entirely new\\nadvanced camera system. it is designed to help our users\\ntake fantastic photos of everyday moments in their\\nlives. we\\'re always looking for ways\\nto make it easier for everyone to take gorgeous\\nphotos, so we\\'re bringing an amazing\\n48mp main camera to iphone 15. it\\'s built for shooting sharp\\nphotos and videos every day, with a quad-pixel sensor\\nand 100% focus pixels for fast\\nautofocus. this 48mp camera\\nopens up some exciting\\ncapabilities. say you\\'re outside on a bright,\\nsunny day. you can maximize resolution\\nwith a 48mp photo, like this majestic landscape, which captures the fine details\\nof the mountains, the rolling\\nhills, and even the individual shingles\\non the houses. of course most of the time, it\\'s best to balance detail\\nand light capture, so we use computational\\nphotography to take the main\\ncamera to the next level. the sensor groups every four\\npixels together into a larger\\ntwo-micron pixel for fantastic light capture. then photonic engine takes the\\nimage that\\'s been optimized for\\nlight capture and combines it\\nwith a super-high resolution\\nimage for rich details. the result is a 24mp photo\\nwith incredible image quality and double the resolution. it perfectly balances light and\\ndetail, and has a practical file size\\nthat\\'s great for storing and\\nsharing. and with all these pixels, we\\ncan do more than increase the\\nresolution. using the middle 12mp of the new\\nsensor, we enabled a new 2x telephoto\\noption for capturing photos\\nand 4k video with optical\\nquality. it\\'s like having a third camera! it helps you feel closer to the\\nscene, and because it\\'s enabled\\nby the main camera, it has the same f/1.6 aperture and sensor-shift optical\\nimage stabilization, which helps you take fantastic\\nphotos even in low light. you can zoom out\\nto capture the whole scene, or zoom in for the perfect\\nclose-up all with optical quality. when you\\'re shooting videos,\\nthe 2x telephoto also has\\ncontinuous zoom, so you can frame the scene,\\nlike here in 4k cinematic mode. it helps you feel closer to your\\nsubject, so it\\'s perfect for portraits,\\nwhich are getting even better. to tell you more, here\\'s maryam. ♪ ♪ maryam azimi hashemi:\\nthis year, we\\'re introducing the next generation of portraits\\non iphone! now, it\\'s even easier to get\\nstunning portraits of your\\nfriends and family. portraits will get richer color\\nand great low light performance, like this one. it\\'s full of vivid color and\\ndetail, and it uses a rich depth map\\nto create a beautiful bokeh\\neffect. in this portrait\\nof a very good dog asking for a\\ntreat, iphone caught the perfect moment\\nwith zero shutter lag. a split second later,\\nand it just wouldn\\'t be the\\nsame. and it\\'s easier to take a\\nportrait, because now you don\\'t have to\\nremember to switch to portrait\\nmode. using machine learning, we can\\ndetect when there\\'s a person in\\nthe frame and capture rich depth\\ninformation automatically, so you can turn it\\ninto a stunning portrait right\\naway, or later on in the photos app. it even works with dogs and\\ncats, so you can have more portraits\\nin your pets album in ios 17\\nautomatically. and with the rich depth map, we\\'re introducing focus and\\ndepth control for a whole new level of\\ncreative control. take this super-high resolution\\nportrait. now you can switch the focus\\nfrom one subject to another after the photo has been taken. it gives you so many more\\noptions with your photos, and less to think about in the\\nmoment. when it\\'s dark,\\nnight mode is getting better\\ntoo, like in this photo\\nwhich was taken outside. it has sharp details and vibrant\\ncolors so it beautifully captures\\nthe texture of his skin, individual strands of hair, and even the shadows of leaves\\non his shirt. when lighting is bright or\\nuneven, the latest smart hdr captures\\nboth the sky and your subject with vivid colors and even more\\ntrue-to-life rendering of skin\\ntones. look at this colorful selfie\\nshot on the truedepth front\\ncamera. it uses our new smart hdr to beautifully capture\\nthe deep shades of purple in her\\nshirt and the bright red\\nof the chair behind her. when you\\'re looking at hdr\\nphotos in the photos app, they\\'ll have brighter highlights\\nwith richer mid-tones, so you can really see\\nthe rich shades of her dress and how the light hits her cheek\\njust the way it was in real\\nlife. by combining\\nadvanced computational\\nphotography with the 48mp main camera, ultra wide camera,\\nand truedepth front camera, iphone 15 makes it easy to take\\ngreat-looking photos and videos\\nevery day. and it\\'s all powered by apple\\nsilicon. back to kaiann. ♪ ♪ kaiann: to deliver\\nall of these advanced features, iphone 15 has an incredible\\nchip: a16 bionic. it was introduced on iphone 14\\npro, and it\\'s proven how powerful,\\nfast, and efficient it is. the custom image signal\\nprocessor enables the advanced\\ncamera system so you can capture fantastic\\nhigh-resolution photos and\\nvideos. the 16-core neural engine\\nhandles everything from\\ncomputational photography to live voicemail transcriptions\\non device in order to protect your\\nprivacy. the 5-core gpu has 50% more\\nmemory bandwidth than a15\\nbionic, so it\\'s even better\\nfor graphics-intensive games. and the 6-core cpu\\nhas two high-performance cores, which are faster and use 20%\\nless power than a15 bionic. the four high-efficiency cores\\ncan handle most daily tasks, so even with all the new\\nfeatures, iphone 15 still has all-day\\nbattery life. and iphone 15 plus has a bigger\\nbattery that lasts even longer, for those days when you forget\\nto charge or just want to spend more time\\ngaming, browsing the web,\\nor on facetime with your\\nfriends. now let\\'s talk about\\nconnectivity. iphone 15 uses powerful wired\\nand wireless technologies. to tell you about the exciting\\nnew wireless features coming to\\niphone 15, here\\'s deniz. ♪ ♪ deniz teoman:\\niphone uses wireless\\ntechnologies to make everyday activities\\neasier, like streaming videos with\\nairplay, or easily sharing contact\\ninformation with namedrop using near field communication. iphone was the first smartphone\\nwith ultra wideband, which is great for identifying\\nwhere your keys are hiding in\\nthe couch. ultra wideband is getting even\\nbetter this year because just like apple watch, iphone 15, has our cutting-edge\\nsecond generation ultra wideband\\nchip. so iphone 15 can connect\\nto other devices with this chip from up tohree times farther\\naway. this chip also opens up\\na completely new way to use precision finding on\\niphone 15: to find your friends. when you\\'re in a crowded place\\nlike a train station or a\\nfarmer\\'s market, and your friends share their\\nlocation, you\\'ll be guided right to them,\\nwith clear directions and\\ndistance. it\\'s built into find my, so it has all the same privacy\\nprotections that users have come\\nto trust. of course, sometimes a phone\\ncall is the best way to reach\\nsomeone. iphone already has\\nfantastic 5g performance, and now audio quality on phone\\ncalls is getting better too because iphone 15 uses a more\\nadvanced machine learning model that automatically prioritizes\\nyour voice. if you prefer to filter out even\\nmore distracting background\\nnoise, just select voice isolation,\\nand you\\'ll come through loud and\\nclear. i\\'m at the farmer\\'s market.\\ndo you want-- hang on. it\\'s noisy here. better? great. of course, they have apples\\nhere. deniz:\\nit\\'s a feature you can use every\\nday. ♪ ♪ sometimes a call can\\'t go\\nthrough because you\\'re off the\\ngrid. when you need help in an\\nemergency, iphone introduced\\na breakthrough new service: emergency sos via satellite. it\\'s having an extraordinary\\nimpact, including helping first\\nresponders rescue people after accidents and natural\\ndisasters. and users have let their loved\\nones know that they\\'re safe, by updating their location\\nwith find my via satellite in places from the shetland\\nislands in scotland to mount wellington in tasmania. emergency sos and find my via\\nsatellite have expanded to 14 countries\\non three continents, and they\\'re coming to spain\\nand switzerland this month. emergency sos was built\\nfor serious emergencies that require a first responder. but say you have car trouble\\nand no cellular or wi-fi\\nservice. for those times, we\\'re\\nintroducing roadside assistance\\nvia satellite. it\\'s built on the same advanced\\ntechnology as our existing\\nsatellite service, and it\\'s so easy to use. just text roadside assistance and select what kind of help you\\nneed. then the intuitive interface\\nwill guide you to connect to a\\nsatellite and share that information\\nwith a roadside assistance\\nprovider. they\\'ll message you directly\\nand dispatch help to your exact\\nlocation, with the right equipment\\nto get you moving. it\\'s launching in the us with\\naaa, the country\\'s largest\\nroadside assistance provider. roadside service is covered\\nby aaa membership and is also available separately\\nfor non-members. this is yet another way\\nthat iphone is essential in our\\nlives. now, back to kaiann. kaiann: we\\'re thrilled to\\ninclude access to these\\nsatellite services free for two years with iphone\\n15. these best-in-class wireless\\ncapabilities keep you connected\\nwhen you\\'re on the go. now let\\'s talk about\\niphone\\'s wired capabilities. the connector is used for\\ncharging, syncing data,\\nor connecting to accessories. usb-c has become\\na universally accepted standard, so we\\'re bringing usb-c to\\niphone 15. it enables charging,\\ntransferring data, playing audio and video, and it\\'s been built\\ninto apple products for years. now, the same cable can charge\\nmac, ipad, iphone, and even airpods pro 2nd\\ngeneration which is updated with a usb-c\\nconnector. if your airpods are low on\\npower, you can charge them, or even an apple watch,\\nright from your iphone. we\\'re also bringing usb-c to\\nearpods, so they can work\\nwith iphone 15 seamlessly. and for an easy wireless\\nconnection to chargers and other\\naccessories, iphone 15 has magsafe, which uses magnets\\nwith 100% recycled rare earth\\nelements. these magnets ensure perfect\\nalignment of magsafe or qi2\\nchargers, as well as other accessories,\\nlike our beautiful cases and\\nwallets. millions of people use\\nthese magsafe accessories. and just like our watch bands, this gives us another\\nopportunity for positive\\nenvironmental impact by eliminating leather and introducing stunning\\nnew finewoven accessories that significantly reduce carbon\\nemissions compared to leather. these soft and durable finewoven\\ncases also join our silicone and\\nclear case, all designed to perfectly\\ncomplement iphone 15. so that\\'s iphone 15! it has so many innovations\\nthat you can use every day, like the dynamic island, a 48mp main camera\\nthat provides a 2x telephoto, and a16 bionic. and it has capabilities\\nthat no other smartphone has, like the ability to get\\nemergency and roadside\\nassistance when you\\'re off the grid, all built into a durable,\\ncolor-infused design. and with all of these fantastic\\nfeatures, iphone 15 is ready\\nwherever the day takes you. ♪ ♪ ♪ ♪ ♪ ♪ kaiann: iphone 15 and iphone 15\\nplus are a huge leap forward. they\\'re full of new,\\nindustry-leading capabilities. they still start at just $799\\nfor iphone 15 and $899 for iphone 15 plus, with carrier activation. we also have excellent offers\\nfrom apple and our partners, including up to $800 off in the\\nus when you trade in an iphone 11\\nor newer. and at apple,\\nyou\\'ll find the latest carrier\\noffers so you can buy and activate your\\nnew iphone on the network you\\nwant in our stores and online. and now, back to tim. ♪ ♪ tim: iphone 15 and iphone 15\\nplus are truly incredible, with new capabilities that will\\nmake a real difference in our\\nusers\\' lives. their unique combination\\nof powerful technology, ease of\\nuse, and thoughtful design\\nmake them indispensable. and we\\'re not done yet. our pro models represent the\\nvery best of apple innovations, advancing features across\\ndesign, camera, performance, and\\nmore. the next-generation pro pushes\\neach of these further in ways\\nonly apple can, and i\\'d like to introduce it to\\nyou now. ♪ ♪ ♪ ♪ ♪ ♪ for a closer look at iphone 15\\npro, the most pro iphone we\\'ve ever\\ncreated, here\\'s joz. ♪ ♪ greg \"joz\" joswiak: iphone 15\\npro is packed with\\nindustry-first innovations and features our users are going\\nto love. powered by our most advanced\\napple silicon yet, it delivers\\nthe most incredible photos and\\nvideos. and we are thrilled to introduce\\nour astonishing new titanium\\ndesign. this is the most premium\\nmaterial we\\'ve ever used in an\\niphone enclosure. titanium is incredibly strong\\nand durable. yet, at the same time, it is\\nmuch lighter, making these our lightest pro\\nmodels ever. you\\'ll feel it as soon as you\\npick it up. titanium is just beautiful. it feels fantastic\\nwith the new contoured edges, and we are also introducing the\\nthinnest borders ever on an\\niphone. this enabled us\\nto reduce iphone dimensions without affecting the display\\nsize. so together with the lighter\\nweight and new edges, iphone 15 pro\\nis a delight to hold in your\\nhand. in addition to the strength of\\ntitanium, iphone 15 pro has the toughest\\nglass-based materials in the\\nindustry, including the ceramic shield\\nfront, which is only available\\non iphone. and there are two great display\\nsizes to choose from: 6.1 inches for iphone 15 pro, and 6.7 inches for iphone 15 pro\\nmax. now, to tell you more\\nabout this incredible titanium\\ndesign, here\\'s isabel. isabel yang: every material we\\nchoose for iphone is\\nmeticulously considered. for iphone 15 pro we\\nre-evaluated every structural\\ncomponent, inside and out,\\noptimizing our alloy selection and creating a breakthrough\\ninnovation in manufacturing and\\nmaterials design. the new enclosure uses grade 5\\ntitanium, an alloy that has even higher\\ntensile strength than pure\\ntitanium. it\\'s typically reserved for\\napplications where the balance\\nof strength, formability, as well as weight,\\nare especially critical. in fact, this is the same alloy\\nused on the mars rover. titanium has one of the highest\\nstrength-to-weight ratios of any\\nmetal, providing incredible durability\\nfor iphone, while enabling a much lighter\\ndesign in comparison to\\nstainless steel. the titanium encases\\na new aluminum sub-structure that is bonded\\nusing solid-state diffusion. this is an industry-first\\ninnovation, using a new thermo-mechanical\\nprocess that joins these two metals\\nwith incredible high strength. using aluminum on the inside\\ncreates synergistic properties with the titanium enclosure, helping with thermal dissipation\\nand further weight reduction. titanium also introduces\\na new refined brush texture, enabled by a unique, multi-step\\nprocess that includes precision\\nmachining, sanding, brushing,\\nand blasting. and while anodizing is commonly\\nused on titanium, we chose to use a pvd coating as\\nadded protection while\\nintroducing color. these apple-designed coatings\\nare engineered with nanometer\\nprecision, and take up to 14 hours to\\ncomplete, resulting in four gorgeous\\nfinishes: black titanium and white\\ntitanium beautifully harmonize\\nwith the back glass, blue titanium highlights\\nthe material\\'s elegance, and natural titanium celebrates\\nits raw metallic nature. there is also\\na new internal chassis\\narchitecture that makes iphone more\\nrepairable, thanks to a new\\nstructural frame that allows the back glass\\nto be easily replaced. the entire aluminum\\nsub-structure is made with 100%\\nrecycled aluminum, a first for iphone, contributing to the overall\\nincrease in recycled materials as we work toward our 2030\\ngoals. now, back to joz. joz: there is another design\\nchange for iphone 15 pro that we\\'re really excited about. from the very first iphone, we\\'ve had the ring/silent\\nswitch, a quick and easy way\\nto mute iphone sounds. we wanted to make this even\\nbetter. so with iphone 15 pro,\\nwe are reinventing the\\nexperience with a customizable action\\nbutton. by default,\\nit\\'s still a simple ring/silent\\nswitch. to toggle between ring and\\nsilent, you simply press and hold the\\nbutton to confirm your intent. you also feel a distinctive\\nhaptic feedback for each state. and you can choose a set of\\nactions and easily switch\\nbetween them. for example, with a simple\\npress, you can start voice memos\\nto quickly record a new idea, or launch camera\\nto capture that important\\nmoment, activate a favorite\\naccessibility feature, like live\\nspeech, or you can use shortcuts\\nto open up an even wider set of\\noptions, from simply launching your\\nfavorite app to running your own\\ncustom shortcuts. the action button delivers\\neven more convenience and\\nversatility to the iphone experience. and every interaction gives you\\nvisual feedback with the dynamic\\nisland on the advanced pro display\\nof iphone 15 pro. in addition\\nto the innovative dynamic\\nisland, the super retina xdr display\\nalso provides the smooth\\nperformance of promotion, the brightness and color\\nof extreme dynamic range, and the convenience\\nof the always-on display. and with ios 17\\nwe\\'re introducing standby, a new full-screen experience activated by turning your iphone\\non its side while it\\'s charging. with the always-on display\\nof iphone 15 pro, standby stays on persistently\\nto show you useful information, perfect on a nightstand,\\nkitchen counter, or desk. you can choose a simple digital\\nclock, or customize your view\\nwith multiple widgets. iphone 15 pro also includes\\na huge advancement in\\nperformance. we are excited to introduce\\nnext-level performance and more pro capabilities than\\never with the a17 pro. for more on how this marks the\\nbeginning of a new chapter in\\niphone performance, here\\'s sri. ♪ ♪ sribalan santhanam: the a-series\\nchip powers every experience on\\niphone. for iphone 15 pro, we developed\\na new generation of apple\\nsilicon that is a major step forward,\\nwith changes throughout the\\nentire chip including a breakthrough new\\ngpu. at the foundation of this new\\nchip is the transistor\\ntechnology, and this is the industry\\'s first\\n3-nanometer chip. these 3-nanometer transistors\\nare patterned using state-of-the-art\\nextreme ultraviolet lithography. elements of these transistors\\nare just over 12 silicon atoms\\nwide. a17 pro features\\n19 billion of these transistors. and we use all of them\\nto improve the performance, efficiency, and features of our\\nnew chip. the new cpu features\\nmicro-architectural and design\\nimprovements for both our performance cores\\nand efficiency cores. our performance cores\\nare now up to 10% faster, continuing to deliver the\\nfastest single-threaded\\nperformance in any smartphone, challenging even high-end\\ndesktop pcs. our efficiency cores are also\\nfaster and remain unmatched in the\\nindustry, delivering three times the\\nperformance per watt of the\\ncompetition. these are critical to iphone as\\nyour most typical tasks run on\\nthese cores. the neural engine is now up to\\ntwice as fast for machine\\nlearning models, allowing it to process\\nup to 35 trillion operations per\\nsecond! the neural engine uses machine\\nlearning on device without sending your personal\\ndata to the cloud, powering features like\\ntyping more accurately with\\nautocorrect, lifting a subject from a photo\\nbackground, or creating a personal voice\\nfor users at risk of speech\\nloss. a17 pro has dedicated engines\\nthat enable pro features. those include the prores codec, and a display engine that powers\\npromotion and the always-on display. we also included a dedicated av1\\ndecoder, enabling more efficient\\nand high-quality video\\nexperiences for streaming services. iphone 15 pro also has\\nthe new usb-c connector, but for our pro models, we\\nincluded a new usb controller in\\na17 pro that enables new workflows\\nnot possible before. this is the first iphone\\nwith usb 3 speeds, up to 10 gigabits per second. using an optional usb 3 cable, that\\'s up to 20 times faster\\nthan usb 2, enabling much higher transfer\\nspeeds. the groundbreaking innovation\\nof a17 pro is a brand new gpu, with a new apple-designed\\nshader architecture, our biggest redesign\\nin the history of apple gpus. this is a pro-class gpu that\\nexpands what\\'s possible on\\niphone even more. we focused on three things: improving performance and\\nefficiency, running complex applications, and adding new rendering\\nfeatures. the new gpu is now a 6-core\\ndesign, which is up to 20% faster\\nfor peak performance. and we also focused on energy\\nefficiency that helps with sustained\\nperformance for games. we\\'ve added brand new features\\nto the gpu, like mesh shading, which lets games create detailed\\nenvironments while drawing less\\npower. and for the first time,\\nwe have hardware-accelerated ray\\ntracing, featuring the fastest\\nray-tracing performance in any\\nsmartphone. here\\'s a scene without ray\\ntracing that instead uses cube maps to\\napproximate the reflections on\\nsurfaces. the light reflecting in the\\nscene is less accurate and thus\\nless realistic. now here\\'s a scene\\nwith ray-traced reflections, more accurately representing\\nthe behavior of light and reflections of the\\nenvironment. with hardware-accelerated ray\\ntracing, a17 pro can run these graphics\\nsmoothly at much higher frame\\nrates than with software-based ray\\ntracing. it\\'s a more immersive experience\\nfor games and ar applications. a17 pro is more energy efficient\\nand can run up to four times\\nfaster when compared with\\nsoftware-based ray tracing on\\na16 bionic. gaming is further improved\\nwith new software features, including metalfx upscaling, which combines the performance\\nof the gpu and neural engine to enable high-quality graphics,\\nwhile using much less power. with the fastest chip ever\\non any smartphone, we are excited for iphone 15 pro\\nto change mobile gaming. back to joz to tell you more. joz: iphone is the best\\nmobile gaming platform in the\\nworld. iphone is powered by\\nhigh-performance and\\npower-efficient apple silicon, features advanced hdr displays,\\nsupports variable refresh rates, and is compatible with\\nthe most advanced game\\ncontrollers. the app store and apple arcade\\nhave revolutionized game\\ndistribution. and iphone and ios have\\na fantastic game developer\\ncommunity. a17 pro takes this incredible\\nplatform even further, laying the foundation\\nfor a new generation of mobile\\ngaming. some of the world\\'s best\\ndevelopers are taking advantage of this new level of\\nperformance. here\\'s a taste of what\\'s\\npossible on iphone 15 pro. fabrice navrez:\\nwelcome to new york city in the division resurgence. ♪ ♪ the a17 pro allows us\\nto push the quality of the game with improved resolution, more dynamic lighting,\\nand even more fire and weather\\neffects, making the game more real. ♪ ♪ fish ling: thanks to the chip\\nupdates, we have been able to develop\\nhigh-quality water features. that means more realistic waves\\nand reflections. on the new iphone 15 pro, honkai: star rail has never\\nlooked better. tsuyoshi kanda: but that\\'s not\\nall. games like resident evil\\nvillage, and resident evil 4, once only available on consoles, can now be played on iphone,\\nthanks to a17 pro. ♪ ♪ this is the future of mobile\\ngaming, all thanks to the power of\\niphone 15 pro. ♪ ♪ joz: wow!\\nit\\'s amazing to think those games are running on a\\ndevice that fits in your pocket. we\\'re excited\\nthat the division resurgence is launching on iphone in early\\n2024. and this new level of\\nperformance will enable new\\ngames for iphone 15 pro that were previously only\\navailable on game consoles, pcs,\\nor the mac. like capcom\\'s resident evil\\nvillage and the remake of\\nresident evil 4, both launching later this year. and ubisoft will bring mirage, the latest installment of the\\nassassin\\'s creed franchise, to iphone 15 pro in early 2024. this is the first time\\nthe console version of\\nassassin\\'s creed will be natively available\\non a smartphone. now let\\'s talk about the camera. the pro camera system is a big\\nreason why users choose our pro\\nmodels. built on a powerful foundation\\nof hardware and software, it captures the most amazing\\nphotos and videos, with the incredible versatility\\nof multiple lenses. iphone 15 pro has\\nour best camera system yet. users will get even better\\nphotos and videos, powerful new features, and the\\nequivalent of seven camera\\nlenses in their pocket. to tell you how we achieve this,\\nhere\\'s misha. ♪ ♪ ♪ ♪ misha scepanovic: last year we\\nintroduced our innovative 48mp\\ncamera, which users loved for their\\nbeautiful high resolution\\nphotos. iphone 15 pro features a more\\nadvanced 48mp main camera, with an even larger sensor than\\niphone 15. the camera includes a new\\nnanoscale coating to reduce lens\\nflare, brings high resolution to\\neveryday photos, enables more focal lengths, and has better low-light\\nperformance for portraits and\\nnight mode. when using all pixels\\nof the quad-pixel sensor, the main camera can capture\\nunbelievable detail, like every little scale on this\\nlizard. in addition to 48mp proraw, users can now shoot in 48mp\\nheif, with four times more resolution\\nthan before. and with the power\\nof our computational\\nphotography, we have the new super-high\\nresolution default for the main\\ncamera. 24mp photos merge the best\\nof low light and detail\\ntogether, as you can see here\\nin the beautiful color of her\\neyes, the sharpness on the edges of\\nher clothes, and the artistic reflection on\\nthe table. since the new photonic engine\\nnow uses a 48mp image, iphone can shoot higher\\nresolution photos in 24-, 28- and 35-millimeter\\nfocal length, a very important range\\nfor pro photographers. they can now quickly switch\\nbetween these new options, and even choose a new default\\nlens, customizing their camera\\nexperience to their creative\\nneeds. iphone 15 pro also gets\\nnext-generation portraits with\\nfocus and depth control, with two times better\\nlow light performance, as you can see here\\nin this beautiful shot. the smallest details of her\\nexpression are incredibly clear and contrasted with the dimly\\nlit, yet detailed background. you can really feel her emotion. in this photo,\\nnight mode is unbelievable. now powered by the photonic\\nengine, we can capture more color\\nand details than ever, from the warmth of her lipstick to the creases of her white\\ndress. enabled by the lidar scanner, night mode portraits also look\\nstunning on iphone 15 pro. in this shot we captured\\nthe intricate fabric his sweater together with the beautiful\\nbokeh of the lights in the\\nbackground. and our latest smart hdr\\ndelivers even more true-to-life\\nphotos, with greater dynamic range. as you can see here\\nwith the beautiful lighting on\\nher face and the sun reflecting on her\\nhair, all while preserving the blue of\\nthe sky. now let\\'s talk about our zoom\\nrange. iphone 15 pro features\\na great 3x telephoto camera at 77-millimeter focal length, ideal for classic portraiture. for iphone 15 pro max, we are using the extra size\\nof the larger iphone to introduce something unique, our longest optical zoom yet, 5x optical zoom\\nat 120-millimeter focal length! we designed\\na state-of-the-art telephoto\\ncamera. compared to iphone 14 pro max, it has a 25% larger sensor, 100% focus pixels, and an f/2.8 aperture, the largest of any smartphone\\nat this optical range. 120 millimeter\\nis a very useful focal length, great for close-ups, wildlife photos, and getting closer to the sports\\naction. 120-millimeter lenses are\\ntypically long, so instead we created\\nan innovative tetra-prism\\ndesign, built right into iphone. the light rays are reflected\\nfour times through the glass\\nstructure, allowing the light to travel for\\nlonger in a much smaller design. this creates enough separation\\nbetween the lens and the sensor to enable the longer focal\\nlength. and we have our most advanced\\nstabilization yet: a combined ois and autofocus\\n3d sensor-shift module that moves in all three\\ndirections, a first for any\\nsmartphone. this was critical\\nto support the tetra-prism\\ndesign. it provides even better\\nstabilization, with up to 10,000\\nmicro-adjustments per second! that\\'s twice as many as iphone\\n14 pro. this longer focal length gives\\npro users a brand new creative\\noption, and we can\\'t wait to see\\nthe incredible photos they will\\ntake. the ultra wide camera is also\\nimproved with a new\\nanti-reflective coating, better night mode,\\nand the latest smart hdr, in addition to enabling one of\\nour users\\' favorite features on\\nthe pro models: macro photography. macro is one of the seven lenses\\nof the new pro camera system, with a 10x optical zoom range\\ngoing from 13- to 120-millimeter\\nfocal length, making iphone 15 pro max more\\npowerful and more versatile than\\never. now, back to joz. joz:\\niphone 15 pro will enable great\\nworkflows for photographers and filmmakers\\nthat previously weren\\'t\\npossible. using a usb 3 cable with iphone\\n15 pro enables incredibly fast\\ntransfer speeds. so it\\'s much faster\\nto transfer your large proraw\\nphotos or prores videos to your mac. and now you can use your iphone\\nwith capture one to shoot and instantly transfer\\n48mp proraw directly to a mac, easily creating a pro studio\\nsuited for today\\'s fast-paced\\nneeds. iphone 15 pro also supports\\nrecording prores video directly to an external storage\\ndrive. video productions can quickly\\nswap drives and keep iphone as\\nthe main camera on set. recording to an external drive\\nenables even higher quality\\nrecording options, pushing prores 4k up to 60\\nframes per second for the first\\ntime, a great option for filmmakers\\nto create cinematic slow motion. we are also introducing log\\nencoding to make prores even more\\npowerful for our pro users, enabling more range and\\nflexibility for visual effects and color grading in\\npost-production. with log encoding, iphone 15 pro\\nwill be the first smartphone in\\nthe world to support\\nthe academy color encoding\\nsystem, or aces,\\na global standard for color\\nworkflows, making it easier for filmmakers\\nto use iphone in their\\nproduction. the iphone 15 pro camera system\\npushes the limits of what you can capture with a\\nsmartphone. the precious memories you\\ncapture on iphone look\\nincredible when viewing with apple vision\\npro. photos and videos look lifelike, and panoramas expand\\nto create an immersive\\nexperience that wraps around you. and there\\'s one more unique\\nfeature we\\'ve created just for the world of spatial\\ncomputing. with iphone 15 pro,\\nyou can now capture spatial\\nvideos. we use the ultra wide\\nand main cameras together to create a three dimensional\\nvideo. you can then relive these\\nmemories in a magical way on\\napple vision pro. this is really important\\nas your iphone is with you all\\nthe time, so you won\\'t ever miss capturing\\na special moment using spatial\\nvideo, like your family\\'s beach\\nvacation. spatial video lets you feel like\\nyou\\'re right back to that moment\\nin time. [laughs] you can also share these spatial\\nvideos with anyone with an apple vision pro\\nso they can feel like they were\\nthere too. capturing spatial video will be\\navailable later this year. so this is the iphone 15 pro, our best and most pro iphone\\never. with a new, beautiful, strong,\\nand lighter titanium design, as well as next-level\\nperformance from the a17 pro, a convenient\\nand customizable action button, and our most pro camera system for our best photos and videos\\never, including next-generation\\nportraits and our longest optical zoom\\non iphone 15 pro max. all while still providing\\ngreat all-day battery life. the iphone 15 pro will start\\nat the same price as last year,\\n$999. and iphone 15 pro max,\\nfeaturing the new 5x telephoto\\ncamera, will start at $1199 with 256gb\\nof storage, which also matches last year\\'s\\nprice with this level of\\nstorage. we also have incredible offers\\nfrom apple and our carrier\\npartners, including up to $1000 off in the\\nus when you trade in an iphone\\n11 pro or newer. all new iphone models will be\\navailable for pre-order this\\nfriday, september 15th, and they\\'ll be available in\\nstores next week on september\\n22nd. and starting next week,\\nicloud+ is adding two new plans: 6 and 12 terabytes, for even more room to keep your\\nphotos and videos safe. icloud+ also has great features\\nthat allow you to easily share\\nyour photos, automatically back up your\\niphone, and so much more. and of course, with family\\nsharing, everyone in your household\\ncan get all the benefits of\\nicloud+. this is by far,\\nour best iphone lineup ever, with dynamic island\\nacross the iphone 15 lineup, incredible new camera systems, and powerful features\\nthat you\\'ll use throughout the\\nday. and the iphone line up starts\\nat just $429 with iphone se. now, back to tim. ♪ ♪ tim: thank you, joz.\\nthanks to all of our presenters, and thanks to everyone who\\nworked on these amazing products that are so indispensable\\nin our daily lives. apple watch series 9, with our most powerful chip ever\\nin apple watch, a brighter display, and a\\nconvenient new way to interact\\nwith your watch. and it\\'s our first carbon\\nneutral product. apple watch ultra 2, our most\\nrugged, and even more capable\\nwatch, now featuring\\napple\\'s brightest display ever. iphone 15 and iphone 15 plus, now with dynamic island, an incredible camera system\\nfeaturing a 48mp main camera, and the power of a16 bionic\\nin a gorgeous new design. and iphone 15 pro, in titanium for a durable,\\nlight, and stunning finish. with the new a17 pro,\\nthe fastest chip ever in a\\nsmartphone, a customizable action button, and our most pro camera system\\nyet featuring a 5x telephoto\\ncamera. these are the best and most\\ncapable iphones we\\'ve ever made. at apple,\\nwe strive to create innovative\\nproducts and best-in-class experiences that help us do the things\\nthat matter most in our lives. apple watch and iphone are\\nessential. they\\'re with us all the time\\nand we use them throughout the\\nday, which is why we\\'re so excited\\nfor you to begin using these\\nincredible new devices. thank you for joining us! have a great day! ♪ ♪ . .'"
      ]
     },
     "execution_count": 27,
     "metadata": {},
     "output_type": "execute_result"
    }
   ],
   "source": [
    "newData = df['text'].iloc[0:].str.cat(sep=' ') # concat all texts from text column\n",
    "newData # Display text"
   ]
  },
  {
   "cell_type": "code",
   "execution_count": 28,
   "id": "54bf2308-830c-4e9e-84f2-34b7b458666a",
   "metadata": {},
   "outputs": [],
   "source": [
    "# Split text by character-level tokenization and set all characters to lowercase\n",
    "text_vec_layer = tf.keras.layers.TextVectorization(split=\"character\", standardize=\"lower\")\n",
    "\n",
    "# Adapt the TextVectorization layer to the data in \"newData\" to learn the vocabulary\n",
    "text_vec_layer.adapt([newData]) \n",
    "\n",
    "# Store encoded text data in \"newData\" using the adapted TextVectorization layer\n",
    "encoded = text_vec_layer([newData])[0] "
   ]
  },
  {
   "cell_type": "code",
   "execution_count": 29,
   "id": "ace7e3e4-2e1a-4cac-a5d6-7cbf068b749f",
   "metadata": {},
   "outputs": [],
   "source": [
    "encoded -= 2  # Drop tokens 0 (pad) and 1 (unknown), which we will not use\n",
    "n_tokens = text_vec_layer.vocabulary_size() - 2  # Number of distinct characters\n",
    "dataset_size = len(encoded)  # Total number of characters"
   ]
  },
  {
   "cell_type": "code",
   "execution_count": 30,
   "id": "f601c0c7-9b0a-4f83-8053-6853b79df57c",
   "metadata": {},
   "outputs": [
    {
     "data": {
      "text/plain": [
       "57"
      ]
     },
     "execution_count": 30,
     "metadata": {},
     "output_type": "execute_result"
    }
   ],
   "source": [
    "n_tokens # Represent  distinct characters"
   ]
  },
  {
   "cell_type": "code",
   "execution_count": 31,
   "id": "c1c2e7da-3a3b-4b48-be37-5802488fc8a8",
   "metadata": {},
   "outputs": [
    {
     "data": {
      "text/plain": [
       "'\\n !\"#$%\\'()+,-./0123456789:?[]abcdefghijklmnopqrstuvwxyzè♪'"
      ]
     },
     "execution_count": 31,
     "metadata": {},
     "output_type": "execute_result"
    }
   ],
   "source": [
    "\"\".join(sorted(set(newData.lower())))"
   ]
  },
  {
   "cell_type": "code",
   "execution_count": 32,
   "id": "112b5d72-b354-4a6e-8ecd-74a5a260a7cb",
   "metadata": {},
   "outputs": [
    {
     "data": {
      "text/plain": [
       "60143"
      ]
     },
     "execution_count": 32,
     "metadata": {},
     "output_type": "execute_result"
    }
   ],
   "source": [
    "dataset_size # Total number of characters"
   ]
  },
  {
   "cell_type": "code",
   "execution_count": 33,
   "id": "7332d556-0893-4aa5-94bf-76160b043623",
   "metadata": {},
   "outputs": [],
   "source": [
    "# Function to prepare sequences for training by converting them into a suitable TensorFlow \n",
    "# dataset format with batching, shuffling, and target creation. \n",
    "def to_dataset(sequence, length, shuffle=False, seed=None, batch_size=32):\n",
    "    ds = tf.data.Dataset.from_tensor_slices(sequence)\n",
    "    ds = ds.window(length + 1, shift=1, drop_remainder=True)\n",
    "    ds = ds.flat_map(lambda window_ds: window_ds.batch(length + 1))\n",
    "    if shuffle:\n",
    "        ds = ds.shuffle(60_000, seed=seed)\n",
    "    ds = ds.batch(batch_size)\n",
    "    return ds.map(lambda window: (window[:, :-1], window[:, 1:])).prefetch(1)"
   ]
  },
  {
   "cell_type": "code",
   "execution_count": 34,
   "id": "9fe2f2ea-7d66-43c5-b942-4e2a6e1e6274",
   "metadata": {},
   "outputs": [
    {
     "data": {
      "text/plain": [
       "[(<tf.Tensor: shape=(1, 6), dtype=int64, numpy=array([[22,  6, 15,  2, 13,  5]], dtype=int64)>,\n",
       "  <tf.Tensor: shape=(1, 6), dtype=int64, numpy=array([[ 6, 15,  2, 13,  5,  8]], dtype=int64)>)]"
      ]
     },
     "execution_count": 34,
     "metadata": {},
     "output_type": "execute_result"
    }
   ],
   "source": [
    "# Convert a text input into a dataset of fixed-length sequences using TextVectorization.\n",
    "list(to_dataset(text_vec_layer([\"you can\"])[0], length=6))"
   ]
  },
  {
   "cell_type": "code",
   "execution_count": 35,
   "id": "b5f67e91-b692-4e26-848b-e4d34f028493",
   "metadata": {},
   "outputs": [],
   "source": [
    "length = 100 # Set the learning character lenght to 100\n",
    "tf.random.set_seed(42) # Generate random numbers and ensure reproducibility on CPU\n",
    "train_set = to_dataset(encoded[:54_000], length=length, shuffle=True, # ~90% of the dataset is used for Training set\n",
    "                       seed=42)\n",
    "valid_set = to_dataset(encoded[54_000:57_000], length=length) # ~5% of the dataeet is used for Validation set\n",
    "test_set = to_dataset(encoded[57_000:], length=length) # ~5% of the dataeet is used for Test set"
   ]
  },
  {
   "cell_type": "markdown",
   "id": "2979279e-15c5-4284-bf07-e5c519879eb4",
   "metadata": {},
   "source": [
    "## Building and Training the char-RNN Model"
   ]
  },
  {
   "cell_type": "code",
   "execution_count": null,
   "id": "f74eed13-f3c5-4c16-a222-e0724e4cb98c",
   "metadata": {
    "scrolled": true
   },
   "outputs": [
    {
     "name": "stdout",
     "output_type": "stream",
     "text": [
      "Epoch 1/10\n",
      "   1685/Unknown - 92s 50ms/step - loss: 2.0483 - accuracy: 0.4132"
     ]
    }
   ],
   "source": [
    "tf.random.set_seed(42) # Generate random numbers and ensure reproducibility on CPU\n",
    "\n",
    "# Define the neural network model\n",
    "model = tf.keras.Sequential([\n",
    "    tf.keras.layers.Embedding(input_dim=n_tokens, output_dim=16),\n",
    "    tf.keras.layers.GRU(128, return_sequences=True),\n",
    "    tf.keras.layers.Dense(n_tokens, activation=\"softmax\")\n",
    "])\n",
    "\n",
    "# Compile the model with loss, optimizer, and metrics\n",
    "model.compile(loss=\"sparse_categorical_crossentropy\", optimizer=\"nadam\",\n",
    "              metrics=[\"accuracy\"])\n",
    "\n",
    "# Create a ModelCheckpoint callback to save the best model during training\n",
    "model_ckpt = tf.keras.callbacks.ModelCheckpoint(\n",
    "    \"my_script_model\", monitor=\"val_accuracy\", save_best_only=True)\n",
    "\n",
    "# Train the model on the training and validation datasets for 10 epochs\n",
    "history = model.fit(train_set, validation_data=valid_set, epochs=10,\n",
    "                    callbacks=[model_ckpt])"
   ]
  },
  {
   "cell_type": "code",
   "execution_count": null,
   "id": "dbf86091-c6b3-4d25-916b-e32e963c4cc1",
   "metadata": {},
   "outputs": [],
   "source": [
    "history.params # Display parameters related tot he traaining process"
   ]
  },
  {
   "cell_type": "code",
   "execution_count": null,
   "id": "4dbbbf37-d615-44d2-8c4e-274aea8897b5",
   "metadata": {},
   "outputs": [],
   "source": [
    "# Display the results of accuracy and loss from the validation set in graph plot\n",
    "import pandas as pd\n",
    "\n",
    "pd.DataFrame(history.history).plot(figsize=(8, 5))\n",
    "plt.grid(True)\n",
    "plt.gca().set_ylim(0, 1)\n",
    "save_fig(\"keras_learning_curves_plot1\")\n",
    "plt.show()"
   ]
  },
  {
   "cell_type": "markdown",
   "id": "22c2f8a5-df24-48ce-97ac-5bc6f9375edd",
   "metadata": {},
   "source": [
    "## Generating Fake Text"
   ]
  },
  {
   "cell_type": "code",
   "execution_count": null,
   "id": "0be7d99f-9a09-43f1-9c3f-a172842f366e",
   "metadata": {},
   "outputs": [],
   "source": [
    "log_probas = tf.math.log([[0.5, 0.4, 0.1]])  # probas = 50%, 40%, and 10%\n",
    "tf.random.set_seed(42) # Generate random numbers and ensure reproducibility on CPU\n",
    "tf.random.categorical(log_probas, num_samples=8)  # draw 8 samples"
   ]
  },
  {
   "cell_type": "code",
   "execution_count": null,
   "id": "3d074798-2ff3-4c66-af53-3c4fb54a90d6",
   "metadata": {},
   "outputs": [],
   "source": [
    "# A custom function to randomly generate next character \n",
    "def next_char(text, temperature=1):\n",
    "    y_proba = my_script_model.predict([text])[0, -1:]\n",
    "    rescaled_logits = tf.math.log(y_proba) / temperature\n",
    "    char_id = tf.random.categorical(rescaled_logits, num_samples=1)[0, 0]\n",
    "    return text_vec_layer.get_vocabulary()[char_id + 2]"
   ]
  },
  {
   "cell_type": "code",
   "execution_count": null,
   "id": "85d296a8-b5a3-45a8-9c69-6ccca8005d24",
   "metadata": {},
   "outputs": [],
   "source": [
    "# A custom function to randomly generate next 100 characters\n",
    "def extend_text(text, n_chars, temperature=1):\n",
    "    for _ in range(n_chars):\n",
    "        text += next_char(text, temperature)\n",
    "    return text"
   ]
  },
  {
   "cell_type": "code",
   "execution_count": null,
   "id": "9d4a7e9a-0510-42c7-917f-e99beb77429d",
   "metadata": {},
   "outputs": [],
   "source": [
    "tf.random.set_seed(42) # Generate random numbers and ensure reproducibility on CPU"
   ]
  },
  {
   "cell_type": "code",
   "execution_count": null,
   "id": "8aca2772-7d33-44e7-9890-37488ffa8056",
   "metadata": {
    "scrolled": true
   },
   "outputs": [],
   "source": [
    "# Extend 10 characters with temperature at 100 for more random\n",
    "n_chars10 = 10\n",
    "print(extend_text(\"you can\", n_chars10, temperature=0.01))"
   ]
  },
  {
   "cell_type": "code",
   "execution_count": null,
   "id": "1c9c352f-541c-42dc-aa8f-a55738b19129",
   "metadata": {},
   "outputs": [],
   "source": [
    "# Extend 50 characters with temperature at 1 for more random and less deterministic\n",
    "n_chars50 = 50\n",
    "print(extend_text(\"you can\", n_chars50, temperature=1)) "
   ]
  },
  {
   "cell_type": "code",
   "execution_count": null,
   "id": "dce2fe42-3267-4636-a755-bdc44f6cdf02",
   "metadata": {},
   "outputs": [],
   "source": [
    "# Extend 100 characters with temperature at 0.01 for more deterministic\n",
    "n_chars100 = 100\n",
    "print(extend_text(\"you can\", n_chars100, temperature=0.01)) "
   ]
  },
  {
   "cell_type": "markdown",
   "id": "d97d1eaf-be98-4751-9c0a-76e5fbaf2220",
   "metadata": {},
   "source": [
    "## Stateless RNN"
   ]
  },
  {
   "cell_type": "code",
   "execution_count": null,
   "id": "f1bcf484-0c1b-4ff1-9a73-7bbe154f23f2",
   "metadata": {},
   "outputs": [],
   "source": [
    "# Generate sequences of text based on input data using stateless RNN\n",
    "stateless_model = tf.keras.Sequential([\n",
    "    tf.keras.layers.Embedding(input_dim=n_tokens, output_dim=16),\n",
    "    tf.keras.layers.GRU(128, return_sequences=True),\n",
    "    tf.keras.layers.Dense(n_tokens, activation=\"softmax\")\n",
    "])"
   ]
  },
  {
   "cell_type": "code",
   "execution_count": null,
   "id": "fcd710d9-4492-41c4-ba2a-3377c8f621a0",
   "metadata": {},
   "outputs": [],
   "source": [
    "# Configure the input shape for the stateless model.\n",
    "stateless_model.build(tf.TensorShape([None, None]))"
   ]
  },
  {
   "cell_type": "code",
   "execution_count": null,
   "id": "68fbff7b-108d-4651-8026-d0563687dc01",
   "metadata": {},
   "outputs": [],
   "source": [
    "# Set weights\n",
    "stateless_model.set_weights(model.get_weights())"
   ]
  },
  {
   "cell_type": "code",
   "execution_count": null,
   "id": "287a986e-2d65-41d6-b433-48139233d94e",
   "metadata": {},
   "outputs": [],
   "source": [
    "# Creater a new sequential model to test stateless RNN\n",
    "my_script_model2 = tf.keras.Sequential([\n",
    "    text_vec_layer,\n",
    "    tf.keras.layers.Lambda(lambda X: X - 2),  # no <PAD> or <UNK> tokens\n",
    "    stateless_model\n",
    "])"
   ]
  },
  {
   "cell_type": "code",
   "execution_count": null,
   "id": "376e4614-f489-49bd-b494-0eed78741c2a",
   "metadata": {},
   "outputs": [],
   "source": [
    "# Tesing with new text \"iP\" and extend 50 characters\n",
    "tf.random.set_seed(42) # Generate random numbers and ensure reproducibility on CPU\n",
    "print(extend_text(\"iP\", n_chars50, temperature=0.1))"
   ]
  },
  {
   "cell_type": "markdown",
   "id": "f1b29c17-9e95-4a7d-9915-4f61028de210",
   "metadata": {},
   "source": [
    "### Summary"
   ]
  },
  {
   "cell_type": "markdown",
   "id": "df6a1096-1469-4d1c-ba39-1ed59442d3da",
   "metadata": {},
   "source": [
    "The model is able to predict characters/tokens as expected. The lower temperature displays more deterministic characters and the higher temperature displays more random characters. The model used temperature at 0.01, 1 and 100.\n",
    "\n",
    "Stateless RNN is used for this character RNN model due to its simpler sequence modeling tasks where short-term dependencies are sufficient for accurate predictions."
   ]
  }
 ],
 "metadata": {
  "kernelspec": {
   "display_name": "Python 3 (ipykernel)",
   "language": "python",
   "name": "python3"
  },
  "language_info": {
   "codemirror_mode": {
    "name": "ipython",
    "version": 3
   },
   "file_extension": ".py",
   "mimetype": "text/x-python",
   "name": "python",
   "nbconvert_exporter": "python",
   "pygments_lexer": "ipython3",
   "version": "3.11.4"
  }
 },
 "nbformat": 4,
 "nbformat_minor": 5
}
